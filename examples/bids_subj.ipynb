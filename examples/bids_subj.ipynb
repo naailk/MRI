{
 "cells": [
  {
   "cell_type": "code",
   "execution_count": null,
   "metadata": {},
   "outputs": [],
   "source": [
    "import newmri as newmri"
   ]
  },
  {
   "cell_type": "code",
   "execution_count": null,
   "metadata": {},
   "outputs": [],
   "source": [
    "study = '/Volumes/babylab/Desktop/multicue_att'\n",
    "id_correction = '/Volumes/svndl/RAW_DATA/id_correction.json'\n",
    "record = '/Volumes/svndl/RAW_DATA/completed_files.txt'\n",
    "reload(newmri)\n",
    "newmri.bids_organizer(study, id_correction, record, run_all=True)"
   ]
  },
  {
   "cell_type": "code",
   "execution_count": null,
   "metadata": {},
   "outputs": [],
   "source": []
  }
 ],
 "metadata": {
  "language_info": {
   "name": "python",
   "pygments_lexer": "ipython3"
  }
 },
 "nbformat": 4,
 "nbformat_minor": 1
}
