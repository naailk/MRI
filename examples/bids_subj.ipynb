{
 "cells": [
  {
   "cell_type": "code",
   "execution_count": null,
   "metadata": {},
   "outputs": [],
   "source": [
    "import mymri"
   ]
  },
  {
   "cell_type": "code",
   "execution_count": null,
   "metadata": {},
   "outputs": [],
   "source": [
    "study = '/nimsfs/amnorcia/headmodel'\n",
    "id_correction = '/Volumes/svndl/RAW_DATA/correction_files/headmodel_idcorrection.json'\n",
    "run_correction = '/Volumes/svndl/RAW_DATA/correction_files/headmodel_runcorrection.json'\n",
    "record = '/Volumes/svndl/RAW_DATA/headmodel_completed_files.txt'\n",
    "mymri.bids_organizer(study, id_correction, run_correction, record, run_all=True,deface=True)"
   ]
  },
  {
   "cell_type": "code",
   "execution_count": null,
   "metadata": {},
   "outputs": [],
   "source": [
    "study = '/nimsfs/amnorcia/phasetacs'\n",
    "id_correction = '/Volumes/svndl/RAW_DATA/correction_files/phasetacs_idcorrection.json'\n",
    "run_correction = '/Volumes/svndl/RAW_DATA/correction_files/phasetacs_runcorrection.json'\n",
    "record = '/Volumes/svndl/RAW_DATA/phasetacs_completed_files.txt'\n",
    "mymri.bids_organizer(study, id_correction, run_correction, record, run_all=True)"
   ]
  },
  {
   "cell_type": "code",
   "execution_count": null,
   "metadata": {},
   "outputs": [],
   "source": [
    "study = '/nimsfs/amnorcia/multicue'\n",
    "id_correction = '/Volumes/svndl/RAW_DATA/correction_files/multicue_idcorrection.json'\n",
    "run_correction = '/Volumes/svndl/RAW_DATA/correction_files/multicue_runcorrection.json'\n",
    "record = '/Volumes/svndl/RAW_DATA/multicue_completed_files.txt'\n",
    "mymri.bids_organizer(study, id_correction, run_correction, record, run_all=False)"
   ]
  },
  {
   "cell_type": "code",
   "execution_count": null,
   "metadata": {},
   "outputs": [],
   "source": [
    "study = '/nimsfs/jlmcc/untitled'\n",
    "id_correction = '/Volumes/svndl/RAW_DATA/correction_files/numbers_idcorrection.json'\n",
    "run_correction = '/Volumes/svndl/RAW_DATA/correction_files/numbers_runcorrection.json'\n",
    "record = '/Volumes/svndl/RAW_DATA/numbers_completed_files.txt'\n",
    "mymri.bids_organizer(study, id_correction, run_correction, record, run_all=True)"
   ]
  }
 ],
 "metadata": {
  "language_info": {
   "name": "python",
   "pygments_lexer": "ipython3"
  }
 },
 "nbformat": 4,
 "nbformat_minor": 1
}
