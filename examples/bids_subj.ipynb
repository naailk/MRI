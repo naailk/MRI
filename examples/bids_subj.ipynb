{
 "cells": [
  {
   "cell_type": "code",
   "execution_count": null,
   "metadata": {},
   "outputs": [],
   "source": [
    "import mymri"
   ]
  },
  {
   "cell_type": "code",
   "execution_count": null,
   "metadata": {},
   "outputs": [],
   "source": [
    "study = '/nimsfs/amnorcia/phasetacs'\n",
    "id_correction = '/Volumes/svndl/RAW_DATA/correction_files/id_correction.json'\n",
    "run_correction = '/Volumes/svndl/RAW_DATA/correction_files/phasetacs_runcorrection.json'\n",
    "record = '/Volumes/svndl/RAW_DATA/numbers_completed_files.txt'\n",
    "mymri.bids_organizer(study, id_correction, run_correction, record, run_all=True)"
   ]
  },
  {
   "cell_type": "code",
   "execution_count": null,
   "metadata": {},
   "outputs": [],
   "source": [
    "study = '/nimsfs/jlmcc/untitled'\n",
    "id_correction = '/Volumes/svndl/RAW_DATA/correction_files/numbers_idcorrection.json'\n",
    "run_correction = '/Volumes/svndl/RAW_DATA/correction_files/numbers_runcorrection.json'\n",
    "record = '/Volumes/svndl/RAW_DATA/numbers_completed_files.txt'\n",
    "mymri.bids_organizer(study, id_correction, run_correction, record, run_all=True)"
   ]
  },
  {
   "cell_type": "code",
   "execution_count": null,
   "metadata": {},
   "outputs": [],
   "source": [
    "mymri.bids_organizer(study_dir='/Users/kohler/Desktop/RAW', run_all=True, \n",
    "                     id_correction='/Users/kohler/Desktop/id_correction.json',\n",
    "                     run_correction='/Users/kohler/Desktop/numbers_correction.json',\n",
    "                     temp_dir='/Users/kohler/Desktop/TEMP', bids_dir='/Users/kohler/Desktop/BIDS')"
   ]
  },
  {
   "cell_type": "code",
   "execution_count": null,
   "metadata": {},
   "outputs": [],
   "source": []
  },
  {
   "cell_type": "code",
   "execution_count": null,
   "metadata": {},
   "outputs": [],
   "source": []
  }
 ],
 "metadata": {
  "language_info": {
   "name": "python",
   "pygments_lexer": "ipython3"
  }
 },
 "nbformat": 4,
 "nbformat_minor": 1
}
